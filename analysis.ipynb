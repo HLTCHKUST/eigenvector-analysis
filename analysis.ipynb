{
 "cells": [
  {
   "cell_type": "code",
   "execution_count": 295,
   "metadata": {},
   "outputs": [],
   "source": [
    "import numpy as np\n",
    "import pandas as pd\n",
    "import scipy.linalg as la\n",
    "from scipy import stats\n",
    "\n",
    "import math\n",
    "\n",
    "%matplotlib inline\n",
    "import matplotlib.pyplot as plt\n",
    "import matplotlib.mlab as mlab\n",
    "\n",
    "import seaborn as sns\n",
    "# sns.set(color_codes=False)\n",
    "from scipy.sparse import dok_matrix, csr_matrix, diags, linalg\n",
    "import scipy.linalg as la\n",
    "\n",
    "import dask.array as da\n",
    "\n",
    "from hyperwords.representations.matrix_serializer import load_matrix, load_vocabulary, load_count_vocabulary\n",
    "from hyperwords.representations.embedding import SVDEmbedding, EnsembleEmbedding, Embedding\n",
    "from hyperwords.representations.explicit import Explicit, PositiveExplicit"
   ]
  },
  {
   "cell_type": "code",
   "execution_count": 296,
   "metadata": {
    "scrolled": true
   },
   "outputs": [],
   "source": [
    "# svd100_one = SVDEmbedding('w2.dyn.dirty.100/svd', True, 1)\n",
    "svd100_none = SVDEmbedding('w2.dyn.dirty.100/svd', True, 0)\n",
    "svd = svd100_none\n",
    "# svd100 = SVDEmbedding('w2.dyn.dirty.100/svd', True, 0.5)\n",
    "# svd10 = SVDEmbedding('w2.dyn.dirty.10/svd', True, 0.5)\n",
    "# svd1 = SVDEmbedding('w2.dyn.dirty.1/svd', True, 0.5)\n",
    "# svd01 = SVDEmbedding('w2.dyn.dirty.0.1/svd', True, 0.5)\n",
    "# svd001 = SVDEmbedding('w2.dyn.dirty.0.01/svd', True, 0.5)"
   ]
  },
  {
   "cell_type": "code",
   "execution_count": 297,
   "metadata": {},
   "outputs": [],
   "source": [
    "sgns100 = Embedding('w2.dyn.dirty.100/sgns.words', True)\n",
    "sgns = sgns100\n",
    "# sgns10 = Embedding('w2.dyn.dirty.10/sgns.words', True)\n",
    "# sgns1 = Embedding('w2.dyn.dirty.1/sgns.words', True)\n",
    "# sgns01 = Embedding('w2.dyn.dirty.0.1/sgns.words', True)\n",
    "# sgns001 = Embedding('w2.dyn.dirty.0.01/sgns.words', True)"
   ]
  },
  {
   "cell_type": "code",
   "execution_count": 308,
   "metadata": {},
   "outputs": [],
   "source": [
    "sgns100_s = la.svd(sgns100.m, compute_uv=False, full_matrices=False, check_finite=False)\n",
    "# sgns10_s = la.svd(sgns10.m, compute_uv=False, full_matrices=False, check_finite=False)\n",
    "# sgns1_s = la.svd(sgns1.m, compute_uv=False, full_matrices=False, check_finite=False)\n",
    "# sgns01_s = la.svd(sgns01.m, compute_uv=False, full_matrices=False, check_finite=False)\n",
    "# sgns001_s = la.svd(sgns001.m, compute_uv=False, full_matrices=False, check_finite=False)"
   ]
  },
  {
   "cell_type": "code",
   "execution_count": null,
   "metadata": {},
   "outputs": [],
   "source": [
    "# pmi = Explicit('w2.dyn.dirty.0.01/pmi', normalize=False)\n",
    "# m = pmi.m.todense()\n",
    "# np.all(m == m.T)"
   ]
  },
  {
   "cell_type": "code",
   "execution_count": null,
   "metadata": {},
   "outputs": [],
   "source": [
    "# cooc = Explicit('w2.dyn.dirty.0.01/pmi.cooc', normalize=False)\n",
    "# m = cooc.m.todense()\n",
    "# np.all(m == m.T)"
   ]
  },
  {
   "cell_type": "code",
   "execution_count": null,
   "metadata": {},
   "outputs": [],
   "source": [
    "# ppmi = PositiveExplicit('w2.dyn.dirty.0.01/pmi', normalize=False)\n",
    "# m = ppmi.m.todense()\n",
    "# np.all(m == m.T)"
   ]
  },
  {
   "cell_type": "code",
   "execution_count": null,
   "metadata": {},
   "outputs": [],
   "source": [
    "# d = np.diag(m)\n",
    "# d"
   ]
  },
  {
   "cell_type": "code",
   "execution_count": null,
   "metadata": {},
   "outputs": [],
   "source": [
    "# # svd = Embedding('w2.dyn.dirty.0.01/sgns.words', False)\n",
    "# # svd.m = (svd100_none.m + svd100_none_c.m) / 2\n",
    "# # svd.wi, svd.iw = (svd100.wi, svd100.iw)\n",
    "# svd = svd100_none\n",
    "# # sgns = sgns100\n",
    "# # sgns_s = sgns100_s"
   ]
  },
  {
   "cell_type": "code",
   "execution_count": null,
   "metadata": {},
   "outputs": [],
   "source": [
    "# rnorm = np.sqrt(np.sum(svd.m * svd.m, axis=1))"
   ]
  },
  {
   "cell_type": "code",
   "execution_count": 300,
   "metadata": {},
   "outputs": [
    {
     "data": {
      "text/plain": [
       "1.0"
      ]
     },
     "execution_count": 300,
     "metadata": {},
     "output_type": "execute_result"
    }
   ],
   "source": [
    "cnorm = np.sqrt(np.sum(svd.m * svd.m, axis=0))\n",
    "svdcs = svd.m / cnorm[np.newaxis]\n",
    "np.sqrt(np.sum(svdcs[:, 0] * svdcs[:, 0]))\n",
    "# svd.m = svdcs"
   ]
  },
  {
   "cell_type": "code",
   "execution_count": 301,
   "metadata": {},
   "outputs": [
    {
     "data": {
      "text/plain": [
       "1.0000471"
      ]
     },
     "execution_count": 301,
     "metadata": {},
     "output_type": "execute_result"
    }
   ],
   "source": [
    "cnorm = np.sqrt(np.sum(sgns.m * sgns.m, axis=0))\n",
    "sgnscs = sgns.m / cnorm[np.newaxis]\n",
    "np.sqrt(np.sum(sgnscs[:, 0] * sgnscs[:, 0]))\n",
    "# svd.m = svdcs"
   ]
  },
  {
   "cell_type": "code",
   "execution_count": 302,
   "metadata": {},
   "outputs": [],
   "source": [
    "def ipr(v, p=4):\n",
    "    return np.sum(np.power(v, p))\n",
    "get_iprs = lambda m: [ipr(m[:, i]) for i in range(500)]\n",
    "iprs_svd = np.array(get_iprs(svd.m))\n",
    "iprs_svdcs = np.array(get_iprs(svdcs))\n",
    "iprs_sgnscs = np.array(get_iprs(sgnscs))"
   ]
  },
  {
   "cell_type": "code",
   "execution_count": 303,
   "metadata": {},
   "outputs": [
    {
     "data": {
      "text/plain": [
       "0.05151469236172347"
      ]
     },
     "execution_count": 303,
     "metadata": {},
     "output_type": "execute_result"
    }
   ],
   "source": [
    "np.std(np.array(list(map(lambda ipr: 1/ipr, iprs_svdcs)))) / 346000"
   ]
  },
  {
   "cell_type": "code",
   "execution_count": 304,
   "metadata": {},
   "outputs": [
    {
     "data": {
      "text/plain": [
       "0.2759569103251422"
      ]
     },
     "execution_count": 304,
     "metadata": {},
     "output_type": "execute_result"
    }
   ],
   "source": [
    "np.mean(np.array(list(map(lambda ipr: 1/ipr, iprs_svdcs)))) / 346000"
   ]
  },
  {
   "cell_type": "code",
   "execution_count": 305,
   "metadata": {},
   "outputs": [
    {
     "data": {
      "text/plain": [
       "0.046946430906232274"
      ]
     },
     "execution_count": 305,
     "metadata": {},
     "output_type": "execute_result"
    }
   ],
   "source": [
    "1 / np.max(np.array(list(map(lambda ipr: ipr, iprs_svdcs)))) / 346000"
   ]
  },
  {
   "cell_type": "code",
   "execution_count": 317,
   "metadata": {},
   "outputs": [
    {
     "name": "stdout",
     "output_type": "stream",
     "text": [
      "0.03907754300124037\n",
      "0.3601664422048553\n",
      "0.2706608988975468\n",
      "0.5598168843601704\n"
     ]
    }
   ],
   "source": [
    "print(np.std(np.array(list(map(lambda ipr: 1/ipr, iprs_sgnscs)))) / 346000)\n",
    "print(np.mean(np.array(list(map(lambda ipr: 1/ipr, iprs_sgnscs)))) / 346000)\n",
    "print(1 / np.max(np.array(list(map(lambda ipr: ipr, iprs_sgnscs)))) / 346000)\n",
    "print(1 / np.min(np.array(list(map(lambda ipr: ipr, iprs_sgnscs)))) / 346000)"
   ]
  },
  {
   "cell_type": "code",
   "execution_count": 85,
   "metadata": {
    "scrolled": false
   },
   "outputs": [
    {
     "name": "stdout",
     "output_type": "stream",
     "text": [
      "[  0  20   5   7  11  37   8  34  36  16 153  44  26 184  56  19  32 188\n",
      "  59  93   9 161  41  31 179  86  25 158  65 139  84 245 191  91 177 215\n",
      " 112   4 163 174  10 116 111  53  82 133 221  29 243 198 144 264 246 255\n",
      " 228 204 241 292 108 258 280 293 273 247 160 299 211 251 169 182 167 236\n",
      " 266 114 234 138 194 185  94 189 124 224 240  85 106 334 196 122 166  48\n",
      " 146 223 225 115  43 172 219 277 129 173 285 237 271 109 104 249 164 131\n",
      " 260 176 306 305 208 197 202 275  47 134 317 254 206 193 286 296  97 235\n",
      " 183 239  51 244 257 130 181 180 262  71  60 279  58 150 295 252 261  67\n",
      " 168 123  95 165 186  87  30 126 125  73 268 248 303 220  38  28 373 233\n",
      "  90  40 205 350 337  92 201 309 333 127 326 210 320 316 302 324 308 342\n",
      " 291 250  99 298 259 222 120 214 141 374  45 304 117 321 276 156  83 230\n",
      "  46 319  17 157 335 325 353 253 362 314 386 329 281 307 278 300 297 227\n",
      " 192 359 207 318 344 422 354 132 170 269  74 392 338 389 226 312 351 343\n",
      " 137 256 110 331 383 290 352 395 213 232 341  22 145  54 311 216 159 270\n",
      " 367 336  89 348 347 345 152 263 363 360 370 136 372 218 265 274 355 328\n",
      " 327 378 384 369 142   1 371 267 403 365 310 323 162 407 149 346  39  24\n",
      "  69 287 272 357 340 393 282 381 330 195 171 349 410 398 200 368 140 387\n",
      " 313 283 332 400  57 100 212 229 289 242 409 376 390 424 322 379 418 397\n",
      " 356 155 217 151 315 135 404 432 366 339 434 385 414 421 451 284 402 437\n",
      "  55 294 401 143 388 396 413 394 426  49 406 148 415 420 199 459 433 382\n",
      " 408 399 419 448 405 423 364 238 375 430   3 436 417 412 380 469  62 391\n",
      " 441  21 416 231 444 458 427 301 460 103 435 442 358 457 447 105 481  35\n",
      " 455 377 473 463  88  77 453 128 468 492 467 361 446 475 445 428 203 482\n",
      " 449 119  33 494 479 478 470 462 456  72 443 411 438 454 484 429 483 425\n",
      " 452 488 489  76 465  12 113 480  23 477 431 496 486 464 466  79 471 487\n",
      " 497 493 498 495  80 107  68 461  15  98 485 472 450 154 491 476 490 178\n",
      "  18 288 209  61 439  66  63 474  27 499   2 175  78 118 190 147  52 102\n",
      "  81   6 440 187  13  64  70 121  96  75 101  14  50  42]\n"
     ]
    }
   ],
   "source": [
    "iprs_svd_argsort = np.argsort(iprs_svd)\n",
    "# iprs_sgns_argsort = np.argsort(iprs_sgns)\n",
    "# print(iprs_svd[iprs_svd_argsort])\n",
    "print(iprs_svd_argsort)\n",
    "# print(iprs_sgns[iprs_sgns_argsort])\n",
    "# print(iprs_sgns_argsort)"
   ]
  },
  {
   "cell_type": "code",
   "execution_count": 260,
   "metadata": {},
   "outputs": [
    {
     "data": {
      "text/plain": [
       "0.04816955684007707"
      ]
     },
     "execution_count": 260,
     "metadata": {},
     "output_type": "execute_result"
    }
   ],
   "source": [
    "(1 / 6e-05) / 346000"
   ]
  },
  {
   "cell_type": "code",
   "execution_count": 259,
   "metadata": {},
   "outputs": [
    {
     "data": {
      "text/plain": [
       "0.32466557041844474"
      ]
     },
     "execution_count": 259,
     "metadata": {},
     "output_type": "execute_result"
    }
   ],
   "source": [
    "1 / 8.90200154786856e-06 / 346000"
   ]
  },
  {
   "cell_type": "code",
   "execution_count": 312,
   "metadata": {
    "scrolled": false
   },
   "outputs": [
    {
     "data": {
      "image/png": "[encoded data removed]",
      "text/plain": [
       "<matplotlib.figure.Figure at 0x7f69961a7828>"
      ]
     },
     "metadata": {},
     "output_type": "display_data"
    },
    {
     "data": {
      "image/png": "[encoded data removed]",
      "text/plain": [
       "<matplotlib.figure.Figure at 0x7f6993f3fe48>"
      ]
     },
     "metadata": {},
     "output_type": "display_data"
    }
   ],
   "source": [
    "from sklearn import preprocessing\n",
    "# from matplotlib import rcParams\n",
    "# rcParams['font.family'] = 'sans-serif'\n",
    "# rcParams['font.sans-serif'] = 'Helvetica'\n",
    "min_max_scaler = preprocessing.MinMaxScaler()\n",
    "color_map = plt.cm.Spectral_r\n",
    "y = iprs_svdcs\n",
    "x = svd.s\n",
    "x_norm = min_max_scaler.fit_transform([x])\n",
    "y_norm = min_max_scaler.fit_transform([y])\n",
    "# y_norm = y\n",
    "\n",
    "fig, ax = plt.subplots()\n",
    "\n",
    "normx=(max(x)-min(x))*0.05\n",
    "normy=(max(y)-min(y))*0.05\n",
    "\n",
    "xbnds = np.array([min(x)-normx,max(x)+normx])\n",
    "ybnds = np.array([min(y)-normy,max(y)+normy])\n",
    "extent = [xbnds[0],xbnds[1],ybnds[0],ybnds[1]]\n",
    "# Set gridsize just to make them visually large\n",
    "image = plt.hexbin(x,y,cmap=color_map,gridsize=20,extent=extent,mincnt=1,bins='log')\n",
    "# Note that mincnt=1 adds 1 to each count\n",
    "counts = image.get_array()\n",
    "ncnts = np.count_nonzero(np.power(10,counts))\n",
    "verts = image.get_offsets()\n",
    "for offc in range(verts.shape[0]):\n",
    "    binx,biny = verts[offc][0],verts[offc][1]\n",
    "    if counts[offc]:\n",
    "        plt.plot(binx,biny,'k.',zorder=100)\n",
    "ax.set_xlim(xbnds)\n",
    "ax.set_ylim(ybnds)\n",
    "# ax = plt.gca()\n",
    "y_labels = [' ','1e-5', '2e-5', '3e-5','4e-5','5e-5','6e-5']\n",
    "ax.set_yticklabels(y_labels)\n",
    "# x_labels = ['0','2e3', '4e3', '6e3','8e3','1e4', '1.2e4']\n",
    "# ax.set_xticklabels(x_labels)\n",
    "\n",
    "# cb = plt.colorbar(image,spacing='uniform',extend='max')\n",
    "\n",
    "# plt.plot(iprs_svd, svd.s, 'go')\n",
    "# plt.xscale(\"log\")\n",
    "# plt.yscale(\"log\")\n",
    "# plt.xlabel(\"IPR\")\n",
    "# plt.ylabel(\"Eigenvalue\")\n",
    "plt.colorbar()\n",
    "# plt.show()\n",
    "# plt.plot(iprs_sgns, sgns_s, 'go')\n",
    "# plt.xscale(\"log\")\n",
    "# plt.yscale(\"log\")\n",
    "plt.ylabel(\"IPR\")\n",
    "plt.xlabel(\"Eigenvalue\")\n",
    "plt.savefig('ipr.png', format='png',dpi=300)\n",
    "plt.show()\n",
    "\n",
    "plt.plot(iprs_svd, svd.s, 'go')\n",
    "# plt.xscale(\"log\")\n",
    "# plt.yscale(\"log\")\n",
    "plt.ylabel(\"IPR\")\n",
    "plt.xlabel(\"Eigenvalue\")\n",
    "plt.show()"
   ]
  },
  {
   "cell_type": "code",
   "execution_count": 315,
   "metadata": {},
   "outputs": [
    {
     "data": {
      "image/png": "[encoded data removed]",
      "text/plain": [
       "<matplotlib.figure.Figure at 0x7f699577a518>"
      ]
     },
     "metadata": {},
     "output_type": "display_data"
    },
    {
     "data": {
      "image/png": "[encoded data removed]",
      "text/plain": [
       "<matplotlib.figure.Figure at 0x7f699478a198>"
      ]
     },
     "metadata": {},
     "output_type": "display_data"
    }
   ],
   "source": [
    "from sklearn import preprocessing\n",
    "# from matplotlib import rcParams\n",
    "# rcParams['font.family'] = 'sans-serif'\n",
    "# rcParams['font.sans-serif'] = 'Helvetica'\n",
    "min_max_scaler = preprocessing.MinMaxScaler()\n",
    "color_map = plt.cm.Spectral_r\n",
    "y = iprs_sgnscs\n",
    "x = sgns100_s\n",
    "x_norm = min_max_scaler.fit_transform([x])\n",
    "y_norm = min_max_scaler.fit_transform([y])\n",
    "# y_norm = y\n",
    "\n",
    "fig, ax = plt.subplots()\n",
    "\n",
    "normx=(max(x)-min(x))*0.05\n",
    "normy=(max(y)-min(y))*0.05\n",
    "\n",
    "xbnds = np.array([min(x)-normx,max(x)+normx])\n",
    "ybnds = np.array([min(y)-normy,max(y)+normy])\n",
    "extent = [xbnds[0],xbnds[1],ybnds[0],ybnds[1]]\n",
    "# Set gridsize just to make them visually large\n",
    "image = plt.hexbin(x,y,cmap=color_map,gridsize=20,extent=extent,mincnt=1,bins='log')\n",
    "# Note that mincnt=1 adds 1 to each count\n",
    "counts = image.get_array()\n",
    "ncnts = np.count_nonzero(np.power(10,counts))\n",
    "verts = image.get_offsets()\n",
    "for offc in range(verts.shape[0]):\n",
    "    binx,biny = verts[offc][0],verts[offc][1]\n",
    "    if counts[offc]:\n",
    "        plt.plot(binx,biny,'k.',zorder=100)\n",
    "ax.set_xlim(xbnds)\n",
    "ax.set_ylim(ybnds)\n",
    "# ax = plt.gca()\n",
    "y_labels = [' ','5e-6', '6e-6', '7e-6','8e-6','9e-6','1e-5']\n",
    "ax.set_yticklabels(y_labels)\n",
    "# x_labels = ['0','2e3', '4e3', '6e3','8e3','1e4', '1.2e4']\n",
    "# ax.set_xticklabels(x_labels)\n",
    "\n",
    "# cb = plt.colorbar(image,spacing='uniform',extend='max')\n",
    "\n",
    "# plt.plot(iprs_svd, svd.s, 'go')\n",
    "# plt.xscale(\"log\")\n",
    "# plt.yscale(\"log\")\n",
    "# plt.xlabel(\"IPR\")\n",
    "# plt.ylabel(\"Eigenvalue\")\n",
    "plt.colorbar()\n",
    "# plt.show()\n",
    "# plt.plot(iprs_sgns, sgns_s, 'go')\n",
    "# plt.xscale(\"log\")\n",
    "# plt.yscale(\"log\")\n",
    "plt.ylabel(\"IPR\")\n",
    "plt.xlabel(\"Eigenvalue\")\n",
    "plt.savefig('ipr.png', format='png',dpi=300)\n",
    "plt.show()\n",
    "\n",
    "plt.plot(iprs_svd, svd.s, 'go')\n",
    "# plt.xscale(\"log\")\n",
    "# plt.yscale(\"log\")\n",
    "plt.ylabel(\"IPR\")\n",
    "plt.xlabel(\"Eigenvalue\")\n",
    "plt.show()"
   ]
  },
  {
   "cell_type": "code",
   "execution_count": 56,
   "metadata": {
    "scrolled": false
   },
   "outputs": [
    {
     "name": "stdout",
     "output_type": "stream",
     "text": [
      "65\n",
      "\n",
      "1218.9035865313533\n",
      "1233.2178526165962\n",
      "1238.5373810670262\n",
      "1249.7044041650738\n",
      "1252.8879179714388\n",
      "1260.395724916006\n",
      "1266.3971175036208\n",
      "1278.9464706847941\n",
      "1290.713799650007\n",
      "1291.9531265273206\n",
      "1302.8943002065394\n",
      "\n",
      "2.7969232903477767e-05\n",
      "1.2279016098327443e-05\n",
      "1.6483320956214176e-05\n",
      "1.1651438743343272e-05\n",
      "1.76261188412675e-05\n",
      "8.90200154786856e-06\n",
      "2.8855831098217828e-05\n",
      "1.765450370868061e-05\n",
      "1.5252081588920636e-05\n",
      "1.5763115846686307e-05\n",
      "1.2417974792174688e-05\n"
     ]
    }
   ],
   "source": [
    "i = iprs_svd_argsort[10]\n",
    "print(i)\n",
    "print()\n",
    "print(svd.s[i+5])\n",
    "print(svd.s[i+4])\n",
    "print(svd.s[i+3])\n",
    "print(svd.s[i+2])\n",
    "print(svd.s[i+1])\n",
    "print(svd.s[i])\n",
    "print(svd.s[i-1])\n",
    "print(svd.s[i-2])\n",
    "print(svd.s[i-3])\n",
    "print(svd.s[i-4])\n",
    "print(svd.s[i-5])\n",
    "print()\n",
    "print(iprs_svd[i+5])\n",
    "print(iprs_svd[i+4])\n",
    "print(iprs_svd[i+3])\n",
    "print(iprs_svd[i+2])\n",
    "print(iprs_svd[i+1])\n",
    "print(iprs_svd[i])\n",
    "print(iprs_svd[i-1])\n",
    "print(iprs_svd[i-2])\n",
    "print(iprs_svd[i-3])\n",
    "print(iprs_svd[i-4])\n",
    "print(iprs_svd[i-5])"
   ]
  },
  {
   "cell_type": "code",
   "execution_count": 294,
   "metadata": {
    "scrolled": false
   },
   "outputs": [
    {
     "name": "stdout",
     "output_type": "stream",
     "text": [
      "499\n",
      "7.386612132547977\n"
     ]
    },
    {
     "data": {
      "image/png": "[encoded data removed]",
      "text/plain": [
       "<matplotlib.figure.Figure at 0x7f694953f438>"
      ]
     },
     "metadata": {},
     "output_type": "display_data"
    }
   ],
   "source": [
    "i = iprs_svd_argsort[499]\n",
    "i = 499\n",
    "print(i)\n",
    "print(iprs_svd[i])\n",
    "# print(iprs_sgns[i])\n",
    "# kurtosis = stats.kurtosistest(svd.m[:, i])\n",
    "# print(kurtosis)\n",
    "# print(stats.kurtosis(svd.m[:, i]))\n",
    "# skew = stats.skewtest(svd.m[:, i])\n",
    "# print(skew)\n",
    "# print(stats.skew(svd.m[:, i]))\n",
    "\n",
    "mu = np.mean(svd.m[:, i])\n",
    "sigma = np.std(svd.m[:, i])\n",
    "x = np.linspace(mu - 3*sigma, mu + 3*sigma, 100)\n",
    "\n",
    "# plt.xlim((-0.2, 0.2))\n",
    "sns.distplot(svd.m[:, i], kde=False, norm_hist=True)\n",
    "plt.plot(x,mlab.normpdf(x, mu, sigma))\n",
    "# plt.savefig('svd_{}.png'.format(i+1), format='png',dpi=300)\n",
    "plt.show()\n",
    "\n",
    "# mu = np.mean(sgns.m[:, i])\n",
    "# sigma = np.std(sgns.m[:, i])\n",
    "# x = np.linspace(mu - 3*sigma, mu + 3*sigma, 100)\n",
    "\n",
    "# # plt.xlim((-0.2, 0.2))\n",
    "# sns.distplot(sgns.m[:, i], kde=False, norm_hist=True)\n",
    "# plt.plot(x,mlab.normpdf(x, mu, sigma))\n",
    "# plt.show()"
   ]
  },
  {
   "cell_type": "code",
   "execution_count": 254,
   "metadata": {},
   "outputs": [
    {
     "name": "stdout",
     "output_type": "stream",
     "text": [
      "0\n"
     ]
    }
   ],
   "source": [
    "yey = []\n",
    "for i in range(500):\n",
    "    l = len(svd.m[:,i][svd.m[:,i] >= 0])\n",
    "#     r = len(svd.m[:,i][svd.m[:,i] <= 0])\n",
    "    if not l or not r:\n",
    "        print(i)"
   ]
  },
  {
   "cell_type": "code",
   "execution_count": 86,
   "metadata": {},
   "outputs": [
    {
     "name": "stdout",
     "output_type": "stream",
     "text": [
      "8.771826355536499\n",
      "173733\n",
      "173010\n",
      "['vello' 'kohtla' 'urmas' 'selver' 'piret' 'mihkel' 'siim' 'raivo' 'luik'\n",
      " 'juhan' 'virumaa' 'viiding' 'kadarik' 'eesti' 'hikool' 'viru' 'kuusk'\n",
      " 'olev' 'vana' 'kalju']\n",
      "[1.         0.83274051 0.87709534 0.78673334 0.8320892  0.86488594\n",
      " 0.82198131 0.86273587 0.78310403 0.86003788 0.79830142 0.86360648\n",
      " 0.85218797 0.85455743 0.86086675 0.82874892 0.82852215 0.86188243\n",
      " 0.72805513 0.82534474]\n",
      "0.8411738420547291\n",
      "['vello' 'priit' 'indrek' 'urmas' 'tiiu' 'tiit' 'madis' 'toomas' 'virve'\n",
      " 'kangro' 'mihkel' 'nurme' 'viiding' 'raivo' 'estonian' 'olev' 'hikool'\n",
      " 'juhan' 'ilmar' 'mnaasium']\n",
      "[1.         0.8871178  0.8806167  0.87709534 0.8770746  0.8741316\n",
      " 0.87219614 0.86911887 0.86901796 0.8661384  0.8648859  0.8647226\n",
      " 0.86360645 0.86273587 0.8625992  0.86188245 0.8608667  0.86003786\n",
      " 0.85936373 0.8591162 ]\n",
      "0.87461627\n"
     ]
    }
   ],
   "source": [
    "i = iprs_svd_argsort[499]\n",
    "i = 440\n",
    "print(iprs_svd[i])\n",
    "\n",
    "print(len(svd.m[:,i][svd.m[:,i] >= 0]))\n",
    "print(len(svd.m[:,i][svd.m[:,i] <= 0]))\n",
    "x = np.argsort(np.absolute(svd.m[:,i]))[::-1]\n",
    "# x = np.argsort(svd.m[:,i])[::-1]\n",
    "# print(svd.m[:,i][x])\n",
    "\n",
    "locs = np.array(list(map(lambda s: svd.iw[s], x[:20])))\n",
    "print(locs)\n",
    "sims = np.array(list(map(lambda sim: svd.similarity(locs[0], sim), locs))) #between locs and locs[0]\n",
    "print(sims)\n",
    "print(np.mean(sims))\n",
    "\n",
    "# svd nns of locs[0]\n",
    "nns = np.array(svd.closest(locs[0], 20))[:, 1]\n",
    "print(nns)\n",
    "nn_sims = np.array(svd.closest(locs[0], 20))[:, 0].astype(np.float32)\n",
    "print(nn_sims)\n",
    "print(np.mean(nn_sims))\n",
    "\n",
    "# sgns nns of locs[0]\n",
    "# nns = np.array(sgns100.closest(locs[0], 20))[:, 1]\n",
    "# print(nns)\n",
    "# nn_sims = np.array(sgns100.closest(locs[0], 20))[:, 0].astype(np.float32)\n",
    "# print(nn_sims)\n",
    "# print(np.mean(nn_sims))"
   ]
  },
  {
   "cell_type": "code",
   "execution_count": 73,
   "metadata": {},
   "outputs": [],
   "source": [
    "# sns.heatmap(svd.m[:, 42][np.newaxis], cmap=\"RdBu_r\", center=0, xticklabels=0)"
   ]
  },
  {
   "cell_type": "code",
   "execution_count": 18,
   "metadata": {},
   "outputs": [
    {
     "data": {
      "text/plain": [
       "-67.58080105754351"
      ]
     },
     "execution_count": 18,
     "metadata": {},
     "output_type": "execute_result"
    }
   ],
   "source": [
    "np.dot(svd.m[:, 0],svd.m[:, 1])"
   ]
  },
  {
   "cell_type": "code",
   "execution_count": 289,
   "metadata": {
    "scrolled": false
   },
   "outputs": [
    {
     "name": "stdout",
     "output_type": "stream",
     "text": [
      "['airport' 'airports' 'iata' 'destinations' 'flights' 'dafif' 'airline'\n",
      " 'stopover' 'airlines' 'runway' 'icao' 'sheremetyevo' 'airways'\n",
      " 'fiumicino' 'malpensa' 'rwy' 'hub' 'airstrip' 'hubs' 'vueling']\n",
      "['airport' 'airports' 'airstrip' 'iata' 'sheremetyevo' 'malpensa'\n",
      " 'flights' 'dafif' 'heliport' 'runway' 'stopover' 'airline' 'runways'\n",
      " 'taxiway' 'linate' 'aerodrome' 'faa' 'ourairports' 'stansted' 'airpark']\n"
     ]
    },
    {
     "data": {
      "image/png": "[encoded data removed]",
      "text/plain": [
       "<matplotlib.figure.Figure at 0x7f69962435f8>"
      ]
     },
     "metadata": {},
     "output_type": "display_data"
    },
    {
     "data": {
      "image/png": "[encoded data removed]",
      "text/plain": [
       "<matplotlib.figure.Figure at 0x7f6994b81ba8>"
      ]
     },
     "metadata": {},
     "output_type": "display_data"
    },
    {
     "name": "stdout",
     "output_type": "stream",
     "text": [
      "\n",
      "SVD_NEG\n",
      "[ 53 163]\n",
      "['located' 'near' 'connecting' 'situated' 'connects' 'town' 'towns'\n",
      " 'branch' 'junction' 'geography']\n",
      "['stakecenter' 'mescal' 'centralists' 'cananea' 'quemado' 'potosi'\n",
      " 'garita' 'estancia' 'tecolote' 'manganese']\n",
      "\n",
      "SVD_POS\n",
      "[337 123]\n",
      "['vueling' 'tuifly' 'eurowings' 'tunisair' 'fiumicino' 'interjet'\n",
      " 'transavia' 'wizz' 'easyjet' 'volotea']\n",
      "['tolmachevo' 'syktyvkar' 'yemelyanovo' 'tsentralny' 'bolshoye'\n",
      " 'domodedovo' 'salekhard' 'cccp' 'yuzhny' 'yakutsk']\n",
      "\n",
      "SVD_ALL\n",
      "[ 53 337 163 178 123 369  60  67]\n",
      "['located' 'near' 'connecting' 'situated' 'connects' 'bandeira' 'trindade'\n",
      " 'penha' 'concei' 'velho']\n",
      "['vueling' 'tuifly' 'eurowings' 'tunisair' 'fiumicino' 'interjet'\n",
      " 'transavia' 'wizz' 'easyjet' 'volotea']\n",
      "['stakecenter' 'ever' 'mescal' 'centralists' 'cananea' 'quemado' 'potosi'\n",
      " 'garita' 'estancia' 'tecolote']\n",
      "['emburgh' 'kempers' 'kronemann' 'oosting' 'salumaa' 'tramacchi' 'nijssen'\n",
      " 'noteboom' 'orsanic' 'kratzmann']\n",
      "['yamanashi' 'gun' 'tolmachevo' 'syktyvkar' 'yemelyanovo' 'hyogo'\n",
      " 'ibaraki' 'iwate' 'tottori' 'tsentralny']\n",
      "['formatpropertyvalues' 'nicandro' 'preddy' 'hoggatt' 'ceed'\n",
      " 'andersonville' 'evh' 'brades' 'kepley' 'karon']\n",
      "['eretz' 'shalom' 'eliezer' 'avraham' 'moshe' 'yehoshua' 'akiva' 'yisrael'\n",
      " 'meir' 'eliyahu']\n",
      "['brightening' 'brightness' 'intensities' 'speckle' 'blueshift'\n",
      " 'redshifted' 'jsource' 'flicker' 'fluctuation' 'modular']\n",
      "\n",
      "SGNS_ALL\n",
      "[447 229 279  84 188 347  27  70 472 451]\n",
      "['garabed' 'hagopian' 'activist' 'abrahamyan' 'marash' 'voices' 'papazian'\n",
      " 'vardapet' 'erden' 'documentaries']\n",
      "['itch' 'negros' 'sulu' 'sulawesi' 'fukuyama' 'ozu' 'dimetrodon'\n",
      " 'occidental' 'paralysis' 'paths']\n",
      "['bridgewater' 'vieux' 'kiawah' 'cruise' 'waterboro' 'marianna' 'flacq'\n",
      " 'almina' 'aroostook' 'medora']\n",
      "['airlifted' 'railhead' 'huts' 'oroya' 'grows' 'helipad' 'onchocerciasis'\n",
      " 'airstrips' 'berbera' 'remoteness']\n",
      "['akcija' 'protiv' 'kroz' 'galija' 'prvi' 'kolektiv' 'enje' 'elektri'\n",
      " 'ritam' 'beogradski']\n",
      "['tigua' 'overidentification' 'wallenpaupack' 'rshs' 'districthas'\n",
      " 'highspire' 'kwantlen' 'northeastern' 'pateros' 'zyberk']\n",
      "['tanzania' 'regencies' 'list' 'rebun' 'murayama' 'tombo' 'asiatica'\n",
      " 'bitou' 'dive' 'adelidae']\n",
      "['rundown' 'faithfully' 'sanctification' 'apostolate' 'minden'\n",
      " 'philadelphians' 'endeavor' 'bonhoeffer' 'choristers' 'instruction']\n",
      "['donetsk' 'pacemaker' 'samp' 'alife' 'amsl' 'prati' 'penance' 'flyover'\n",
      " 'dodder' 'luhansk']\n",
      "['overviewbody' 'intermountain' 'afile' 'hqlocmap' 'jr' 'amex' 'murphey'\n",
      " 'peopleevents' 'shriners' 'freeman']\n"
     ]
    }
   ],
   "source": [
    "w = 'airport'\n",
    "\n",
    "nns = np.array(svd.closest(w, 20))\n",
    "print(nns[:,1])\n",
    "nns = np.array(sgns.closest(w, 20))\n",
    "print(nns[:,1])\n",
    "\n",
    "# words = np.array(svd.closest(w, 4))[:,1]\n",
    "# presidents = ['president','commissioner','minister','superintendent','chairman']\n",
    "words = ['baseball','pitchers','yankees','sox']\n",
    "words_svd = np.array(list(map(lambda w: svd.m[svd.wi[w]], words)))\n",
    "words_sgns = np.array(list(map(lambda w: sgns.m[sgns.wi[w]], words)))\n",
    "\n",
    "ax = sns.heatmap(words_svd, cmap='RdBu_r', center=0, xticklabels=0)\n",
    "# ax = sns.heatmap(words_svd, cmap=sns.diverging_palette(0, 255, sep=32, n=256), center=0, xticklabels=0)\n",
    "plt.subplots_adjust(left=0, right=1, top=0.86, bottom=0.23)\n",
    "ax.set_yticklabels(words,rotation='horizontal',fontsize=12)\n",
    "plt.savefig('heatmap_svd.png', format='png',dpi=300)\n",
    "plt.show()\n",
    "ax = sns.heatmap(words_sgns, cmap='RdBu_r', center=0, xticklabels=0)\n",
    "# ax = sns.heatmap(words_sgns, cmap=sns.diverging_palette(0, 255, sep=32, n=256), center=0, xticklabels=0)\n",
    "plt.subplots_adjust(left=0, right=1, top=0.86, bottom=0.23)\n",
    "ax.set_yticklabels(words,rotation='horizontal',fontsize=12)\n",
    "plt.savefig('heatmap_sgns.png', format='png',dpi=300)\n",
    "plt.show()\n",
    "\n",
    "word = svd.m[svd.wi[w]]\n",
    "neg_col_idx = np.argsort(word)[:2]\n",
    "pos_col_idx = np.argsort(word)[::-1][:2]\n",
    "all_col_idx = np.argsort(np.absolute(word))[::-1][:8]\n",
    "\n",
    "\n",
    "print()\n",
    "print(\"SVD_NEG\")\n",
    "print(neg_col_idx)\n",
    "for col in neg_col_idx:\n",
    "    x = np.argsort(svd.m[:,col])\n",
    "    locs = np.array(list(map(lambda s: svd.iw[s], x[:10])))\n",
    "    print(locs)\n",
    "print()\n",
    "print(\"SVD_POS\")\n",
    "print(pos_col_idx)\n",
    "for col in pos_col_idx:\n",
    "    x = np.argsort(svd.m[:,col])[::-1]\n",
    "    locs = np.array(list(map(lambda s: svd.iw[s], x[:10])))\n",
    "    print(locs)\n",
    "print()\n",
    "print(\"SVD_ALL\")\n",
    "print(all_col_idx)\n",
    "for col in all_col_idx:\n",
    "    x = np.argsort(np.absolute(svd.m[:,col]))[::-1]\n",
    "    locs = np.array(list(map(lambda s: svd.iw[s], x[:10])))\n",
    "    print(locs)\n",
    "    \n",
    "word = sgns.m[sgns.wi[w]]\n",
    "neg_col_idx = np.argsort(word)[:2]\n",
    "pos_col_idx = np.argsort(word)[::-1][:2]\n",
    "all_col_idx = np.argsort(np.absolute(word))[::-1][:10]\n",
    "\n",
    "print()\n",
    "# print(\"SGNS_NEG\")\n",
    "# for col in neg_col_idx:\n",
    "#     x = np.argsort(sgns.m[:,col])\n",
    "#     locs = np.array(list(map(lambda s: sgns.iw[s], x[:10])))\n",
    "#     print(locs)\n",
    "# print()\n",
    "# print(\"SGNS_POS\")\n",
    "# for col in pos_col_idx:\n",
    "#     x = np.argsort(sgns.m[:,col])[::-1]\n",
    "#     locs = np.array(list(map(lambda s: sgns.iw[s], x[:10])))\n",
    "#     print(locs)\n",
    "# print()\n",
    "print(\"SGNS_ALL\")\n",
    "print(all_col_idx)\n",
    "for col in all_col_idx:\n",
    "    x = np.argsort(np.absolute(sgns.m[:,col]))[::-1]\n",
    "    locs = np.array(list(map(lambda s: sgns.iw[s], x[:10])))\n",
    "    print(locs)"
   ]
  },
  {
   "cell_type": "code",
   "execution_count": null,
   "metadata": {
    "scrolled": false
   },
   "outputs": [],
   "source": [
    "import csv\n",
    "\n",
    "with open('analysis.csv', 'w', newline='') as csvfile:\n",
    "    csvwriter = csv.writer(csvfile, delimiter='\\t')\n",
    "    csvwriter.writerow(['i', 'eig', 'ipr', 'cols', 'sim', 'rows', 'nn'])\n",
    "#     spamwriter.writerow(['Spam'] * 5 + ['Baked Beans'])\n",
    "#     spamwriter.writerow(['Spam', 'Lovely Spam', 'Wonderful Spam'])\n",
    "    \n",
    "    for i in range(len(svd.s)):\n",
    "        eig = svd.s[i]\n",
    "        ipr = iprs_svd[i]\n",
    "        \n",
    "        x = np.argsort(np.absolute(svd.m[:,i]))[::-1]\n",
    "\n",
    "        locs = np.array(list(map(lambda s: svd.iw[s], x[:20])))\n",
    "        sims = np.array(list(map(lambda sim: svd.similarity(locs[0], sim), locs))) #between locs and locs[0]\n",
    "\n",
    "        # svd nns of locs[0]\n",
    "        nns = np.array(svd.closest(locs[0], 20))[:, 1]\n",
    "        nn_sims = np.array(svd.closest(locs[0], 20))[:, 0].astype(np.float32)\n",
    "        csvwriter.writerow([i, eig, ipr, locs, np.mean(sims), nns, np.mean(nn_sims)])"
   ]
  },
  {
   "cell_type": "markdown",
   "metadata": {},
   "source": [
    "## Preliminary Analysis"
   ]
  },
  {
   "cell_type": "code",
   "execution_count": null,
   "metadata": {},
   "outputs": [],
   "source": [
    "# s = la.svd(W, compute_uv=False, full_matrices=True, check_finite=False)"
   ]
  },
  {
   "cell_type": "code",
   "execution_count": null,
   "metadata": {},
   "outputs": [],
   "source": [
    "# x = da.from_array(W, chunks=(1000, 1000))\n",
    "# xt = da.from_array(W.T, chunks=(1000, 1000))\n",
    "# X = da.matmul(x, xt)\n",
    "# # x = da.from_array(X, chunks=(1000, 1000))\n",
    "# u,s,v = da.linalg.svd(X, name=None)"
   ]
  },
  {
   "cell_type": "code",
   "execution_count": null,
   "metadata": {
    "scrolled": true
   },
   "outputs": [],
   "source": [
    "plt.hist(s, 50, normed=True)\n",
    "# plt.xlim((0, 0.3))\n",
    "0"
   ]
  },
  {
   "cell_type": "code",
   "execution_count": null,
   "metadata": {},
   "outputs": [],
   "source": [
    "def marcenkopasturpdf(x, c):\n",
    "    # Marchenko Pastur Density Function for c > 1\n",
    "#     ub = (1 + np.sqrt(c))**2\n",
    "#     lb = (1 - np.sqrt(c))**2 \n",
    "    ub = 1 + 1/c + 2 * np.sqrt(1/c)\n",
    "    lb = 1 + 1/c - 2 * np.sqrt(1/c)\n",
    "    mp = np.zeros(len(x))\n",
    "    \n",
    "    # Figure out indices where mp is to be calculated\n",
    "    lbidx = np.where(x > lb)\n",
    "    ubidx = np.where(x < ub)\n",
    "    a = lbidx[0][0]\n",
    "    b = ubidx[-1][-1]\n",
    "    xh = x[a:b+1]\n",
    "    # MP distribution\n",
    "    mp[a:b+1] = c* np.sqrt((xh - lb)*(ub - xh))/(2*math.pi*xh)              \n",
    "#     mp[a:b+1] = np.sqrt((xh - lb)*(ub - xh))/(2*math.pi*c*xh)              \n",
    "    return lb, ub, mp"
   ]
  },
  {
   "cell_type": "code",
   "execution_count": null,
   "metadata": {},
   "outputs": [],
   "source": [
    "l = np.arange(0, 5, step=0.01)\n",
    "# print(l)\n",
    "c = 461408206 / 344332\n",
    "print(c)\n",
    "lb, ub, mp = marcenkopasturpdf(l, c)\n",
    "print(lb,ub)\n",
    "print(np.mean(mp))\n",
    "print(np.min(mp), np.max(mp))\n",
    "# print(mp)\n",
    "# sns.distplot(l, kde=True, norm_hist=True)\n",
    "plt.plot(l, mp, linewidth=1, color='red')\n",
    "# plt.hist(mp, linewidth=1, color='red',normed=True)\n",
    "# sns.distplot(sgns001_s)\n",
    "# plt.hist(svd.s/1000, 100, normed=True)\n",
    "# plt.hist(s, 50, normed=True)\n",
    "# plt.xlim((0, 0.3))\n",
    "# plt.hist(mp, 'auto', normed=True)\n",
    "# plt.hist(mp, 'auto', normed=True, range=(0,ub))\n",
    "sns.distplot(svd.s/c, kde=False, norm_hist=True)\n",
    "plt.ylabel = 'MP'\n",
    "plt.xlabel = 'Eigenvalue'\n",
    "plt.show()\n",
    "# sns.distplot(mp)\n"
   ]
  },
  {
   "cell_type": "code",
   "execution_count": null,
   "metadata": {
    "scrolled": false
   },
   "outputs": [],
   "source": [
    "s = [0, 1, 2, 3, 4]\n",
    "# s = [0.01,0.1, 1, 10, 100] 10^i\n",
    "wss = [0,0,0,2,34]#[::-1]\n",
    "wsr = [0,0,0,1,37]#[::-1]\n",
    "men = [0,0,0,22,968]#[::-1]\n",
    "mt = [1,1,1,4,73]#[::-1]\n",
    "rw = [410,410,524,1117,1744]#[::-1]\n",
    "sl = [1,1,1,6,269]#[::-1]\n",
    "glr = [0,0,58,2792,11488]#[::-1]\n",
    "msr = [1386,1386,1620,2598,4598]#[::-1]\n",
    "\n",
    "sns.set_style(\"whitegrid\")\n",
    "\n",
    "plt.plot(s, rw, color='red', label='rw')\n",
    "plt.plot(s, men, color='blue',label='men')\n",
    "plt.plot(s, sl, label='sl')\n",
    "plt.plot(s, mt, label='mt')\n",
    "plt.plot(s, wss, label='wss')\n",
    "plt.plot(s, wsr, label='wsr')\n",
    "plt.xticks(s)\n",
    "plt.xlabel('Negative Exponents of 10')\n",
    "plt.ylabel('UNK tokens')\n",
    "leg = plt.legend(loc='best', ncol=1, mode=\"expand\", shadow=True, fancybox=True)\n",
    "\n",
    "plt.show()\n",
    "\n",
    "plt.plot(s, glr, label='glr')\n",
    "plt.plot(s, msr, label='msr')\n",
    "plt.xticks(s)\n",
    "plt.xlabel('Negative Exponents of 10')\n",
    "plt.ylabel('UNK tokens')\n",
    "leg = plt.legend(loc='best', ncol=1, mode=\"expand\", shadow=True, fancybox=True)\n",
    "\n",
    "plt.show()\n",
    "\n"
   ]
  },
  {
   "cell_type": "code",
   "execution_count": null,
   "metadata": {},
   "outputs": [],
   "source": []
  }
 ],
 "metadata": {
  "kernelspec": {
   "display_name": "Python 3",
   "language": "python",
   "name": "python3"
  },
  "language_info": {
   "codemirror_mode": {
    "name": "ipython",
    "version": 3
   },
   "file_extension": ".py",
   "mimetype": "text/x-python",
   "name": "python",
   "nbconvert_exporter": "python",
   "pygments_lexer": "ipython3",
   "version": "3.6.4"
  }
 },
 "nbformat": 4,
 "nbformat_minor": 2
}
